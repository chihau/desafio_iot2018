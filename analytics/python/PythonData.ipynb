{
 "cells": [
  {
   "cell_type": "markdown",
   "metadata": {},
   "source": [
    "### Manipulación de datos en Python"
   ]
  },
  {
   "cell_type": "markdown",
   "metadata": {},
   "source": [
    "### Leyendo datos desde un archivo CSV utilizando el paquete csv"
   ]
  },
  {
   "cell_type": "code",
   "execution_count": null,
   "metadata": {},
   "outputs": [],
   "source": [
    "import csv"
   ]
  },
  {
   "cell_type": "code",
   "execution_count": null,
   "metadata": {},
   "outputs": [],
   "source": [
    "# Lee los datos del archivo Cities.csv, guarda las filas en una lista\n",
    "# y imprime la lista\n",
    "# Ojo: hay que asegurarse que el archivo Cities.csv esté en el mismo directorio\n",
    "# Nota: todos los datos son leídos como String\n",
    "with open('Cities.csv','r') as f:\n",
    "    rows = csv.reader(f)\n",
    "    for r in rows:\n",
    "        print(r)"
   ]
  },
  {
   "cell_type": "code",
   "execution_count": null,
   "metadata": {},
   "outputs": [],
   "source": [
    "# Lo mismo que los anterior pero ahora guardame los datos en un Diccionario\n",
    "with open('Cities.csv','r') as f:\n",
    "    rows = csv.DictReader(f)\n",
    "    for r in rows:\n",
    "        print(r)"
   ]
  },
  {
   "cell_type": "code",
   "execution_count": null,
   "metadata": {},
   "outputs": [],
   "source": [
    "# Imprime la ciudad y longitud de todas las ciudades con longitud < 0\n",
    "# Utilizando diccionario\n",
    "with open('Cities.csv','r') as f:\n",
    "    rows = csv.DictReader(f)\n",
    "    for r in rows:\n",
    "        if float(r['longitude']) < 0:\n",
    "            print(r['city'], r['longitude'])"
   ]
  },
  {
   "cell_type": "code",
   "execution_count": null,
   "metadata": {},
   "outputs": [],
   "source": [
    "# Los mismo pero utilizando una lista\n",
    "with open('Cities.csv','r') as f:\n",
    "    rows = csv.reader(f)\n",
    "    next(rows) # Ojo: hay que descartar la primera fila porque son headers\n",
    "    for r in rows:\n",
    "        if float(r[3]) < 0:\n",
    "            print(r[0], r[3])"
   ]
  },
  {
   "cell_type": "markdown",
   "metadata": {},
   "source": [
    "### Leyendo datos de estructuras de datos en Python"
   ]
  },
  {
   "cell_type": "code",
   "execution_count": null,
   "metadata": {},
   "outputs": [],
   "source": [
    "# Lee los datos del archivo Cities.csv en una lista de diccionarios\n",
    "cities = []\n",
    "with open('Cities.csv','r') as f:\n",
    "    rows = csv.DictReader(f)\n",
    "    for r in rows:\n",
    "        cities.append(r)\n",
    "    print(cities)"
   ]
  },
  {
   "cell_type": "code",
   "execution_count": null,
   "metadata": {},
   "outputs": [],
   "source": [
    "# Imprimir ciudad y longitud de todas las ciudad con longitud < 0\n",
    "for city in cities:\n",
    "    if float(city['longitude']) < 0:\n",
    "        print(city['city'], city['longitude'])"
   ]
  },
  {
   "cell_type": "code",
   "execution_count": null,
   "metadata": {},
   "outputs": [],
   "source": [
    "# Imprimir si las ciudades que pertenecen a la UE\n",
    "# Debemos unir las ciudades con los países\n",
    "# Primero leemos el archivo Countries.csv y pasamos los datos a una lista \n",
    "# de diccionarios (ya lo hicimos con Cities.csv)\n",
    "countries = []\n",
    "with open('Countries.csv','r') as f:\n",
    "    rows = csv.DictReader(f)\n",
    "    for r in rows:\n",
    "        countries.append(r)\n",
    "print(countries)"
   ]
  },
  {
   "cell_type": "code",
   "execution_count": null,
   "metadata": {},
   "outputs": [],
   "source": [
    "# Ahora hacemos un Join\n",
    "for city in cities:\n",
    "    for country in countries:\n",
    "        if city['country'] == country['country']:\n",
    "            print(city['city'], country['EU'])"
   ]
  },
  {
   "cell_type": "code",
   "execution_count": null,
   "metadata": {},
   "outputs": [],
   "source": [
    "# Calcular la temperatura promedio de todas las ciudades\n",
    "temps = [] # creamos una lista de todas las temperaturas\n",
    "for city in cities:\n",
    "    temps.append(float(city['temperature']))\n",
    "print(sum(temps)/len(temps))\n",
    "print(round(sum(temps)/len(temps),7))"
   ]
  },
  {
   "cell_type": "markdown",
   "metadata": {},
   "source": [
    "### Calcular el promedio utilizando el paquete NumPy"
   ]
  },
  {
   "cell_type": "code",
   "execution_count": null,
   "metadata": {},
   "outputs": [],
   "source": [
    "import numpy as np"
   ]
  },
  {
   "cell_type": "code",
   "execution_count": null,
   "metadata": {},
   "outputs": [],
   "source": [
    "# Calcular la temperatura promedio de todas las ciudades - ahora usando\n",
    "# np.average\n",
    "temps = [] # creamos una lista de todas las temperaturas\n",
    "for city in cities:\n",
    "    temps.append(float(city['temperature'])) \n",
    "print(np.average(temps))"
   ]
  },
  {
   "cell_type": "markdown",
   "metadata": {},
   "source": [
    "### Mínimo y Máximo"
   ]
  },
  {
   "cell_type": "code",
   "execution_count": null,
   "metadata": {},
   "outputs": [],
   "source": [
    "temps = []\n",
    "for city in cities:\n",
    "    temps.append(float(city['temperature'])) \n",
    "print('Minimum:', min(temps))\n",
    "print('Maximum:', max(temps))"
   ]
  }
 ],
 "metadata": {
  "kernelspec": {
   "display_name": "Python 3",
   "language": "python",
   "name": "python3"
  },
  "language_info": {
   "codemirror_mode": {
    "name": "ipython",
    "version": 3
   },
   "file_extension": ".py",
   "mimetype": "text/x-python",
   "name": "python",
   "nbconvert_exporter": "python",
   "pygments_lexer": "ipython3",
   "version": "3.6.5"
  }
 },
 "nbformat": 4,
 "nbformat_minor": 2
}
