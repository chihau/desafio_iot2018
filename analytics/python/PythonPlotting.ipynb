{
 "cells": [
  {
   "cell_type": "markdown",
   "metadata": {},
   "source": [
    "### Visualización de datos en Python usando matplotlib.pyplot"
   ]
  },
  {
   "cell_type": "code",
   "execution_count": null,
   "metadata": {},
   "outputs": [],
   "source": [
    "import csv\n",
    "import numpy as np\n",
    "import matplotlib.pyplot as plt"
   ]
  },
  {
   "cell_type": "code",
   "execution_count": null,
   "metadata": {},
   "outputs": [],
   "source": [
    "# Leemos el archivo Cities.csv y Countries.csv y lo pasamos a una lista\n",
    "# de diccionarios\n",
    "cities = []\n",
    "with open('Cities.csv','r') as f:\n",
    "    rows = csv.DictReader(f)\n",
    "    for r in rows:\n",
    "        cities.append(r)\n",
    "countries = []\n",
    "with open('Countries.csv','r') as f:\n",
    "    rows = csv.DictReader(f)\n",
    "    for r in rows:\n",
    "        countries.append(r)"
   ]
  },
  {
   "cell_type": "code",
   "execution_count": null,
   "metadata": {},
   "outputs": [],
   "source": [
    "# Gráfico de dispersión (Scatterplot)\n",
    "x = [1, 2, 4, 6, 9]\n",
    "y = [4, 5, 2, 7, 5]\n",
    "plt.scatter(x, y)\n",
    "plt.show()"
   ]
  },
  {
   "cell_type": "code",
   "execution_count": null,
   "metadata": {},
   "outputs": [],
   "source": [
    "# Scatterplot de temperatura (y) versus latitud (x)\n",
    "x = []\n",
    "y = []\n",
    "for city in cities:\n",
    "    x.append(float(city['latitude']))\n",
    "    y.append(float(city['temperature']))\n",
    "plt.xlabel('latitude')\n",
    "plt.ylabel('temperature')\n",
    "plt.scatter(x, y)\n",
    "plt.show()"
   ]
  },
  {
   "cell_type": "code",
   "execution_count": null,
   "metadata": {},
   "outputs": [],
   "source": [
    "# Scatterplot de latitud (y) versus longitud (x) coloreado por temperatura\n",
    "x = []\n",
    "y = []\n",
    "colors = []\n",
    "for city in cities:\n",
    "    x.append(float(city['longitude']))\n",
    "    y.append(float(city['latitude']))\n",
    "    if float(city['temperature']) < 7:\n",
    "        colors.append('red')\n",
    "    elif float(city['temperature']) < 11:\n",
    "        colors.append('orange')\n",
    "    else: colors.append('green')\n",
    "plt.xlabel('longitude')\n",
    "plt.ylabel('latitude')\n",
    "plt.scatter(x, y, c=colors)\n",
    "plt.show()"
   ]
  },
  {
   "cell_type": "code",
   "execution_count": null,
   "metadata": {},
   "outputs": [],
   "source": [
    "# Gráficos de barra\n",
    "bars = ['Bar1', 'Bar2', 'Bar3']\n",
    "heights = [2, 6, 4]\n",
    "plt.xticks([1,2,3], bars)\n",
    "plt.bar([1,2,3], heights)\n",
    "plt.show()"
   ]
  },
  {
   "cell_type": "code",
   "execution_count": null,
   "metadata": {},
   "outputs": [],
   "source": [
    "# Gráfico de barra mostrando población de países con 'ia' en su nombre\n",
    "bars = [] # países con 'ia' en su nombre\n",
    "heights = [] # población de esos países\n",
    "for country in countries:\n",
    "    if 'ia' in country['country']:\n",
    "        bars.append(country['country'])\n",
    "        heights.append(float(country['population']))\n",
    "numbars = len(bars)\n",
    "# range(numbars) in following command yields [0,1,...,numbars-1]\n",
    "plt.xticks(range(numbars), bars, rotation='vertical')\n",
    "plt.bar(range(numbars), heights)\n",
    "plt.xlabel('country')\n",
    "plt.ylabel('population')\n",
    "plt.show()"
   ]
  },
  {
   "cell_type": "code",
   "execution_count": null,
   "metadata": {},
   "outputs": [],
   "source": [
    "# Gráficos de torta\n",
    "sizes = [10, 20, 30]\n",
    "lbls = ['small', 'medium', 'large']\n",
    "\n",
    "plt.pie(sizes, labels=lbls, autopct='%1.1f%%')\n",
    "#autopct indica el formato que tendrá el texto que muestra el porcentaje de\n",
    "#cada trozo\n",
    "\n",
    "plt.show()"
   ]
  },
  {
   "cell_type": "code",
   "execution_count": null,
   "metadata": {},
   "outputs": [],
   "source": [
    "# Gráfico de torta mostrando el número de países que pertenecen a la EU versus\n",
    "# los países que no pertenece a la EU\n",
    "numEU = 0\n",
    "numNotEU = 0\n",
    "for country in countries:\n",
    "    if country['EU'] == 'yes':\n",
    "        numEU += 1\n",
    "    else:\n",
    "        numNotEU +=1\n",
    "sizes = [numEU, numNotEU]\n",
    "lbls = ['EU', 'not EU']\n",
    "plt.pie(sizes, labels=lbls, autopct='%1.1f%%')\n",
    "plt.show()"
   ]
  }
 ],
 "metadata": {
  "kernelspec": {
   "display_name": "Python 3",
   "language": "python",
   "name": "python3"
  },
  "language_info": {
   "codemirror_mode": {
    "name": "ipython",
    "version": 3
   },
   "file_extension": ".py",
   "mimetype": "text/x-python",
   "name": "python",
   "nbconvert_exporter": "python",
   "pygments_lexer": "ipython3",
   "version": "3.6.5"
  }
 },
 "nbformat": 4,
 "nbformat_minor": 2
}
